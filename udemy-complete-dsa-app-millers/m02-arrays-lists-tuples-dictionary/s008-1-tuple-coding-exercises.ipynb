{
 "cells": [
  {
   "cell_type": "markdown",
   "id": "993c3ede-19aa-446e-94ca-90038e9a9fdb",
   "metadata": {},
   "source": [
    "# Sum and Product"
   ]
  },
  {
   "cell_type": "markdown",
   "id": "ba268764-4a7d-4c55-96b0-24b65eebe7d9",
   "metadata": {},
   "source": [
    "Write a function that calculates the sum and product of all elements in a tuple of numbers.\n",
    "\n",
    "**Example**\n",
    "\n",
    "```python\n",
    "input_tuple = (1, 2, 3, 4)\n",
    "sum_result, product_result = sum_product(input_tuple)\n",
    "print(sum_result, product_result)  # Expected output: 10, 24\n",
    "```"
   ]
  },
  {
   "cell_type": "code",
   "execution_count": 2,
   "id": "8766e2ec-84a0-4171-ab17-88f4a93c80cf",
   "metadata": {},
   "outputs": [
    {
     "name": "stdout",
     "output_type": "stream",
     "text": [
      "10 24\n"
     ]
    }
   ],
   "source": [
    "# Solution\n",
    "\n",
    "def sum_product(input_tuple):\n",
    "    sum = 0\n",
    "    product = 1\n",
    "    for item in input_tuple:\n",
    "        sum = sum + item\n",
    "        product = product * item\n",
    "    \n",
    "    return sum, product\n",
    "    \n",
    "\n",
    "input_tuple = (1, 2, 3, 4)\n",
    "sum_result, product_result = sum_product(input_tuple)\n",
    "print(sum_result, product_result)  # Expected output: 10, 24   "
   ]
  },
  {
   "cell_type": "markdown",
   "id": "7cb8c624-e264-4e6d-ae36-bc0ba0cecf10",
   "metadata": {},
   "source": [
    "**Time Complexity**\n",
    "* The overall time complexity of the function is `O(n)` because the loop iterates through each element in the tuple once.\n",
    "* The rest of the operations have constant time complexity `O(1)`. \n",
    "\n",
    "**Space Complexity**: The overall space complexity is `O(1)` because the function uses a constant amount of additional memory to store the sum and product, regardless of the size of the input tuple."
   ]
  },
  {
   "cell_type": "markdown",
   "id": "bcb7b424-0a34-489b-8d03-9bcd301b4c77",
   "metadata": {},
   "source": [
    "# Elementwise Sum"
   ]
  },
  {
   "cell_type": "markdown",
   "id": "f4e633d7-6318-4915-aab1-a56b4384c5cb",
   "metadata": {},
   "source": [
    "Create a function that takes two tuples and returns a tuple containing the element-wise sum of the input tuples.\n",
    "\n",
    "**Example**\n",
    "\n",
    "```python\n",
    "tuple1 = (1, 2, 3)\n",
    "tuple2 = (4, 5, 6)\n",
    "output_tuple = tuple_elementwise_sum(tuple1, tuple2)\n",
    "print(output_tuple)  # Expected output: (5, 7, 9)\n",
    "```"
   ]
  },
  {
   "cell_type": "code",
   "execution_count": 3,
   "id": "5181f074-20f2-4f9c-b8f1-c640100fafec",
   "metadata": {},
   "outputs": [
    {
     "name": "stdout",
     "output_type": "stream",
     "text": [
      "(5, 7, 9)\n"
     ]
    }
   ],
   "source": [
    "# Solution\n",
    "\n",
    "def tuple_elementwise_sum(tuple1, tuple2):\n",
    "    return tuple(map(sum, zip(tuple1, tuple2)))\n",
    "\n",
    "tuple1 = (1, 2, 3)\n",
    "tuple2 = (4, 5, 6)\n",
    "output_tuple = tuple_elementwise_sum(tuple1, tuple2)\n",
    "print(output_tuple)  # Expected output: (5, 7, 9)"
   ]
  },
  {
   "cell_type": "markdown",
   "id": "4c2a6b07-93f2-4a52-8587-82e590603669",
   "metadata": {},
   "source": [
    "**Time and Space Complexity**\n",
    "\n",
    "1. `def tuple_elementwise_sum(tuple1, tuple2)`:\n",
    "\n",
    "    * Define a function called \"`tuple_elementwise_sum`\" that takes two tuples \"`tuple1`\" and \"`tuple2`\" as arguments.\n",
    "    * No time or space complexity associated with this line, as it is just a function definition.\n",
    "\n",
    "2. `return tuple(map(sum, zip(tuple1, tuple2)))`:\n",
    "    \n",
    "    * This line has multiple operations:\n",
    "        * **a.** `zip(tuple1, tuple2)` - The `zip` function has a linear time complexity `O(n)`, where `n` is the length of the input tuples, as it iterates through each element in both input tuples to create pairs. The space complexity is also `O(n)` because it creates an iterator containing `n` pairs.\n",
    "        * **b.** `map(sum, zip(tuple1, tuple2))` - The `map` function has a linear time complexity `O(n)`, as it applies the sum function to each pair created by the `zip` function. The space complexity is `O(n)` because it creates an iterator containing `n` element-wise sums.\n",
    "        * **c.** `tuple(map(sum, zip(tuple1, tuple2)))` - The tuple constructor has a linear time complexity `O(n)` because it iterates through the iterator returned by the map function to create a new tuple. The space complexity is `O(n)` because it creates a new tuple with `n` element-wise sums.\n",
    "\n",
    "The time complexities of the `zip`, `map`, and `tuple` operations are all linear, `O(n)`, but they are combined in a single line, so the overall time complexity for this line is still `O(n)`.\n",
    "\n",
    "The overall time complexity of the function is `O(n)` because it iterates through each pair of elements in the input tuples once. The overall space complexity is `O(n)` because the function creates a new tuple with the same length as the input tuples to store the element-wise sums."
   ]
  },
  {
   "cell_type": "markdown",
   "id": "48fc13f9-1d85-4bc2-bfcb-5a1729746084",
   "metadata": {},
   "source": [
    "# Insert at the Beginning"
   ]
  },
  {
   "cell_type": "markdown",
   "id": "76672147-eeb7-41a6-9488-b1617aebb078",
   "metadata": {},
   "source": [
    "Write a function that takes a tuple and a value, and returns a new tuple with the value inserted at the beginning of the original tuple.\n",
    "\n",
    "**Example**\n",
    "```python\n",
    "input_tuple = (2, 3, 4)\n",
    "value_to_insert = 1\n",
    "output_tuple = insert_value_front(input_tuple, value_to_insert)\n",
    "print(output_tuple)  # Expected output: (1, 2, 3, 4)\n",
    "```"
   ]
  },
  {
   "cell_type": "code",
   "execution_count": 5,
   "id": "b39f1fed-6bc0-4c7d-bc4b-9a0ac0cab85b",
   "metadata": {},
   "outputs": [
    {
     "name": "stdout",
     "output_type": "stream",
     "text": [
      "(1, 2, 3, 4)\n"
     ]
    }
   ],
   "source": [
    "# Solution\n",
    "\n",
    "def insert_value_front(input_tuple, value_to_insert):\n",
    "    return (value_to_insert,) + input_tuple\n",
    "\n",
    "input_tuple = (2, 3, 4)\n",
    "value_to_insert = 1\n",
    "output_tuple = insert_value_front(input_tuple, value_to_insert)\n",
    "print(output_tuple)  # Expected output: (1, 2, 3, 4)"
   ]
  },
  {
   "cell_type": "markdown",
   "id": "779d76bc-3754-46d8-8f86-9c65ecd2bc6f",
   "metadata": {},
   "source": [
    "**Time and Space Complexity**\n",
    "\n",
    "**`def insert_value_at_beginning(input_tuple, value_to_insert)`**: \n",
    "* Define a function called **\"insert_value_at_beginning\"** that takes a tuple **\"input_tuple\"** and a value **\"value_to_insert\"** as arguments.\n",
    "* No time or space complexity associated with this line, as it is just a function definition.\n",
    "\n",
    "**`return (value_to_insert,) + input_tuple`**:\n",
    "* This line creates a new tuple with the given value as the first element, followed by the elements of the original tuple.\n",
    "* The tuple concatenation operation has a linear time complexity `O(n)`, where n is the length of the input tuple, as it creates a new tuple by copying the elements from the original tuple.\n",
    "* The space complexity is also `O(n)` because it creates a new tuple with `n+1` elements.\n",
    "\n",
    "The overall time complexity of the function is `O(n)` because it iterates through the elements of the input tuple once to create a new tuple. The overall space complexity is `O(n)` because it creates a new tuple with `n+1` elements."
   ]
  },
  {
   "cell_type": "markdown",
   "id": "061bed5c-d2f7-4963-98c8-a4ca1f4c60bb",
   "metadata": {},
   "source": [
    "# Concatenate"
   ]
  },
  {
   "cell_type": "markdown",
   "id": "6b36c859-1a88-47b7-ab3c-294815d55953",
   "metadata": {},
   "source": [
    "Write a function that takes a tuple of strings and concatenates them, separating each string with a space.\n",
    "\n",
    "**Example**\n",
    "```python\n",
    "input_tuple = ('Hello', 'World', 'from', 'Python')\n",
    "output_string = concatenate_strings(input_tuple)\n",
    "print(output_string)  # Expected output: 'Hello World from Python'\n",
    "```"
   ]
  },
  {
   "cell_type": "code",
   "execution_count": 6,
   "id": "7f0a62f2-e222-447e-9f69-896c1b617614",
   "metadata": {},
   "outputs": [
    {
     "name": "stdout",
     "output_type": "stream",
     "text": [
      "Hello World from Python\n"
     ]
    }
   ],
   "source": [
    "# Solution\n",
    "\n",
    "def concatenate_strings(input_tuple):\n",
    "    return \" \".join(input_tuple)\n",
    "\n",
    "input_tuple = ('Hello', 'World', 'from', 'Python')\n",
    "output_string = concatenate_strings(input_tuple)\n",
    "print(output_string)  # Expected output: 'Hello World from Python'"
   ]
  },
  {
   "cell_type": "markdown",
   "id": "688a0035-9d8d-4d11-bda2-315d3c1ba16e",
   "metadata": {},
   "source": [
    "**Time and Space Complexity**\n",
    "\n",
    "**`def concatenate_strings(input_tuple)`**: \n",
    "* Define a function called **\"concatenate_strings\"** that takes a tuple of strings **\"input_tuple\"** as an argument.\n",
    "* No time or space complexity associated with this line as it is just a function definition.\n",
    "\n",
    "**`return ' '.join(input_tuple)`**:\n",
    "* This line uses the join method on a space character `' '` to concatenate the strings in the input tuple \"`input_tuple`\" with a space as the separator.\n",
    "* The join method has a linear time complexity `O(n)` because it iterates through each string in the input tuple.\n",
    "* The space complexity is also `O(n)` because it creates a new concatenated string with the length equal to the sum of the lengths of the strings in the input tuple plus the spaces in between.\n",
    "\n",
    "The overall **time complexity** of the function is `O(n)` because it iterates through the strings in the input tuple once to create a new concatenated string. \n",
    "\n",
    "The overall **space complexity** is `O(n)` because it creates a new concatenated string with the length equal to the sum of the lengths of the strings in the input tuple plus the spaces in between."
   ]
  },
  {
   "cell_type": "markdown",
   "id": "1eac6db6-5278-46bd-a5ab-a49276fa84b4",
   "metadata": {},
   "source": [
    "# Diagonal"
   ]
  },
  {
   "cell_type": "markdown",
   "id": "6157bd59-8fc7-4de7-8376-8d37f13918ea",
   "metadata": {},
   "source": [
    "Create a function that takes a tuple of tuples and returns a tuple containing the diagonal elements of the input.\n",
    "\n",
    "**Example**\n",
    "```python\n",
    "input_tuple = (\n",
    "    (1, 2, 3),\n",
    "    (4, 5, 6),\n",
    "    (7, 8, 9)\n",
    ")\n",
    "\n",
    "output_tuple = get_diagonal(input_tuple)\n",
    "print(output_tuple)  # Expected output: (1, 5, 9)\n",
    "```"
   ]
  },
  {
   "cell_type": "code",
   "execution_count": 8,
   "id": "51e34868-a501-42c1-8780-b83cd1486c71",
   "metadata": {},
   "outputs": [
    {
     "name": "stdout",
     "output_type": "stream",
     "text": [
      "(1, 5, 9)\n"
     ]
    }
   ],
   "source": [
    "# Solution\n",
    "\n",
    "def get_diagonal(input_tuple):\n",
    "    return tuple(input_tuple[i][i] for i in range(len(input_tuple)))\n",
    "\n",
    "input_tuple = (\n",
    "    (1, 2, 3),\n",
    "    (4, 5, 6),\n",
    "    (7, 8, 9)\n",
    ")        \n",
    "output_tuple = get_diagonal(input_tuple)\n",
    "print(output_tuple)  # Expected output: (1, 5, 9)"
   ]
  },
  {
   "cell_type": "markdown",
   "id": "685aff09-9c72-46f9-a202-7335c3831d9f",
   "metadata": {},
   "source": [
    "**Time and Space Complexity**\n",
    "\n",
    "**`def get_diagonal(input_tuple)`**:\n",
    "* Define a function called \"`get_diagonal`\" that takes a tuple of tuples, \"`input_tuple`\" as an argument.\n",
    "* No time or space complexity associated with this line as it is just a function definition.\n",
    "\n",
    "**`return tuple(input_tuple[i][i] for i in range(len(input_tuple)))`**\n",
    "* This line uses a generator expression to iterate through the indices `i` from `0` to the length of the input tuple minus one, and select the diagonal elements by indexing the inner tuples with the same index `i`.\n",
    "* The time complexity is `O(n)`, where n is the length of the input tuple, because it iterates through the indices once.\n",
    "* The space complexity is `O(n)` because it creates a new tuple containing the diagonal elements, which has a length equal to the length of the input tuple.\n",
    "\n",
    "The overall **time complexity** of the function is `O(n)` because it iterates through the indices of the input tuple once to create a new tuple with the diagonal elements. \n",
    "\n",
    "The overall **space complexity** is `O(n)` because it creates a new tuple containing the diagonal elements, which has a length equal to the length of the input tuple."
   ]
  },
  {
   "cell_type": "markdown",
   "id": "81924c54-bc47-466b-a22c-3ee6a54b54e1",
   "metadata": {},
   "source": [
    "# Common Elements"
   ]
  },
  {
   "cell_type": "markdown",
   "id": "8d59b55d-87eb-46be-bb46-2376541b22e3",
   "metadata": {},
   "source": [
    "Write a function that takes two tuples and returns a tuple containing the common elements of the input tuples.\n",
    "\n",
    "**Example**\n",
    "```python\n",
    "tuple1 = (1, 2, 3, 4, 5)\n",
    "tuple2 = (4, 5, 6, 7, 8)\n",
    "output_tuple = common_elements(tuple1, tuple2)\n",
    "print(output_tuple)  # Expected output: (4, 5)\n",
    "```"
   ]
  },
  {
   "cell_type": "code",
   "execution_count": 9,
   "id": "41a0333c-2f76-4377-811a-7d263865a545",
   "metadata": {},
   "outputs": [
    {
     "name": "stdout",
     "output_type": "stream",
     "text": [
      "(4, 5)\n"
     ]
    }
   ],
   "source": [
    "# Solution\n",
    "\n",
    "def common_elements(tuple1, tuple2):\n",
    "    return tuple(set(tuple1) & set(tuple2))\n",
    "\n",
    "tuple1 = (1, 2, 3, 4, 5)\n",
    "tuple2 = (4, 5, 6, 7, 8)\n",
    "output_tuple = common_elements(tuple1, tuple2)\n",
    "print(output_tuple)  # Expected output: (4, 5)"
   ]
  },
  {
   "cell_type": "markdown",
   "id": "d3a248c2-f2c1-4712-809e-dcbf4753dae3",
   "metadata": {},
   "source": [
    "**Time and Space Complexity**\n",
    "\n",
    "**`def common_elements(tuple1, tuple2)`**:\n",
    "* Define a function called \"`common_elements`\" that takes two tuples, \"`tuple1`\" and \"tuple2\", as arguments.\n",
    "* No time or space complexity associated with this line as it is just a function definition.\n",
    "\n",
    "**`return tuple(set(tuple1) & set(tuple2))`**\n",
    "* This line creates two sets from the input tuples using the `set()` constructor, and then computes the set intersection using the & operator.\n",
    "* The time complexity of creating each set is `O(n)`, where `n` is the length of the input tuple.\n",
    "* The time complexity of computing the set intersection is `O(min(n,m))`, where `m` is the length of the second input tuple.\n",
    "* Since the two input tuples are of equal length, the overall time complexity of the function is `O(n)`.\n",
    "* The space complexity is also `O(n)` because the size of the resulting set will be no larger than the size of the smaller of the two input tuples.\n",
    "\n",
    "Therefore, the overall time complexity of the function is `O(n)`, and the overall space complexity is also `O(n)`, where n is the length of the input tuples."
   ]
  },
  {
   "cell_type": "code",
   "execution_count": null,
   "id": "3359ed83-d801-42f5-b9ad-bd0c498b96bd",
   "metadata": {},
   "outputs": [],
   "source": []
  }
 ],
 "metadata": {
  "kernelspec": {
   "display_name": "Python 3 (ipykernel)",
   "language": "python",
   "name": "python3"
  },
  "language_info": {
   "codemirror_mode": {
    "name": "ipython",
    "version": 3
   },
   "file_extension": ".py",
   "mimetype": "text/x-python",
   "name": "python",
   "nbconvert_exporter": "python",
   "pygments_lexer": "ipython3",
   "version": "3.12.5"
  }
 },
 "nbformat": 4,
 "nbformat_minor": 5
}
