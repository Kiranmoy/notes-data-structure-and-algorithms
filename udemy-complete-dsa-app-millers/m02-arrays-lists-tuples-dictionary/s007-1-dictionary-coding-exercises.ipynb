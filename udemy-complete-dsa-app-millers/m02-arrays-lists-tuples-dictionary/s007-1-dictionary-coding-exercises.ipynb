{
 "cells": [
  {
   "cell_type": "markdown",
   "id": "05ca081b-3d5f-42f2-a5da-17f8286774c6",
   "metadata": {},
   "source": [
    "# Count Word Frequency"
   ]
  },
  {
   "cell_type": "markdown",
   "id": "090ebeab-5c3b-4392-b5a7-b2b4d2992855",
   "metadata": {},
   "source": [
    "Define a function to count the frequency of words in a given list of words.\n",
    "\n",
    "**Example**:\n",
    "```python\n",
    "words = ['apple', 'orange', 'banana', 'apple', 'orange', 'apple'] \n",
    "count_word_frequency(words) \n",
    "```"
   ]
  },
  {
   "cell_type": "code",
   "execution_count": 5,
   "id": "5887003a-7e6d-4233-b655-0bde93a61d27",
   "metadata": {},
   "outputs": [
    {
     "name": "stdout",
     "output_type": "stream",
     "text": [
      "{'apple': 3, 'orange': 2, 'banana': 1}\n"
     ]
    }
   ],
   "source": [
    "# Solution\n",
    "\n",
    "def count_word_frequency(words):\n",
    "    word_count = {}\n",
    "    for word in words:\n",
    "        word_count[word] = word_count.get(word, 0) + 1   # If the word is not yet present in the dictionary, `get()` returns the default value (0).\n",
    "    return word_count\n",
    "\n",
    "words = ['apple', 'orange', 'banana', 'apple', 'orange', 'apple'] \n",
    "print(count_word_frequency(words))"
   ]
  },
  {
   "cell_type": "markdown",
   "id": "57ff657a-ae42-490e-8d06-3b41c0f7bb4e",
   "metadata": {},
   "source": [
    "**Time complexity**:\n",
    "* The time complexity of this exercise is `O(n)`, where `n` is the number of words in the input list.\n",
    "* The loop iterates through each word in the list once, and the dictionary operations (get and update) take constant time, `O(1)`, on average.\n",
    "\n",
    "**Space complexity**:\n",
    "* The space complexity of this exercise is also `O(n)`, where `n` is the number of unique words in the input list.\n",
    "* In the worst case, all words are unique, and the word_count dictionary will have n entries."
   ]
  },
  {
   "cell_type": "markdown",
   "id": "b6fbd872-1960-4b02-b920-ec89f605dc19",
   "metadata": {},
   "source": [
    "# Common Keys"
   ]
  },
  {
   "cell_type": "markdown",
   "id": "c0dc29fa-7acb-4745-b215-64a19587d220",
   "metadata": {},
   "source": [
    "Define a function with takes two dictionaries as parameters and merge them and sum the values of common keys.\n",
    "\n",
    "**Example**:\n",
    "```python\n",
    "dict1 = {'a': 1, 'b': 2, 'c': 3}\n",
    "dict2 = {'b': 3, 'c': 4, 'd': 5}\n",
    "merge_dicts(dict1, dict2)\n",
    "```\n",
    "\n",
    "**Output**:\n",
    "```json\n",
    "{'a': 1, 'b': 5, 'c': 7, 'd': 5}\n",
    "```"
   ]
  },
  {
   "cell_type": "code",
   "execution_count": 8,
   "id": "86208f64-a29e-4855-a77a-05263fc1d4f9",
   "metadata": {},
   "outputs": [
    {
     "name": "stdout",
     "output_type": "stream",
     "text": [
      "{'b': 5, 'c': 7, 'd': 5, 'a': 1}\n"
     ]
    }
   ],
   "source": [
    "# Solution\n",
    "\n",
    "def merge_dicts(dict1, dict2):\n",
    "    merge_dicts = dict2.copy()\n",
    "\n",
    "    for key, value in dict1.items():\n",
    "        merge_dicts[key] = merge_dicts.get(key, 0) + value\n",
    "\n",
    "    return merge_dicts\n",
    "\n",
    "\n",
    "dict1 = {'a': 1, 'b': 2, 'c': 3}\n",
    "dict2 = {'b': 3, 'c': 4, 'd': 5}\n",
    "print(merge_dicts(dict1, dict2))"
   ]
  },
  {
   "cell_type": "markdown",
   "id": "51b4ab27-d42a-42a5-87c9-a93b3e97e4ef",
   "metadata": {},
   "source": [
    "**Time complexity**:\n",
    "* The overall time complexity of this function is `O(n + m)`, where `n` is the number of elements in `dict1` and `m` is the number of elements in `dict2`.\n",
    "* The `copy()` method takes `O(n)` time, and the loop iterates m times with `O(1)` operations inside the loop.\n",
    "\n",
    "**Space complexity**:\n",
    "* The space complexity of this function is `O(n + m)` in the worst case, where all keys in `dict1` and `dict2` are distinct, and the merged dictionary has `n + m` elements.\n",
    "* In the best case, where `dict1` and `dict2` have the same keys, the space complexity is `O(n)` (or `O(m)`, whichever is larger), as the merged dictionary has the same number of elements as the input dictionaries."
   ]
  },
  {
   "cell_type": "markdown",
   "id": "27bf0e61-b864-451b-9d25-5ce279e7ea6f",
   "metadata": {},
   "source": [
    "# Key with the Highest Value"
   ]
  },
  {
   "cell_type": "markdown",
   "id": "7309a5f0-5926-4a08-b5d4-0896156451ef",
   "metadata": {},
   "source": [
    "Define a function which takes a dictionary as a parameter and returns the key with the highest value in a dictionary.\n",
    "\n",
    "**Example**:\n",
    "```python\n",
    "my_dict = {'a': 5, 'b': 9, 'c': 2}\n",
    "max_value_key(my_dict))\n",
    "```\n",
    "\n",
    "**Output**:\n",
    "```\n",
    "b\n",
    "```"
   ]
  },
  {
   "cell_type": "code",
   "execution_count": 7,
   "id": "6e4114aa-04b1-4358-8044-86e017dd0968",
   "metadata": {},
   "outputs": [
    {
     "name": "stdout",
     "output_type": "stream",
     "text": [
      "b\n"
     ]
    }
   ],
   "source": [
    "# Shortcut solution\n",
    "\n",
    "def max_value_key(my_dict):\n",
    "    return max(my_dict, key=my_dict.get)\n",
    "\n",
    "\n",
    "# Elaborated solution\n",
    "\n",
    "def max_value_key(my_dict):\n",
    "    max_value_key = \"\"\n",
    "    highest = -1\n",
    "    for key, value in my_dict.items():\n",
    "        if value > highest:\n",
    "            highest = value\n",
    "            max_key = key\n",
    "    return max_key\n",
    "\n",
    "my_dict = {'a': 5, 'b': 9, 'c': 2}\n",
    "print(max_value_key(my_dict))"
   ]
  },
  {
   "cell_type": "markdown",
   "id": "9f6efff5-b1fb-44e4-b6f2-bf90bb66bac9",
   "metadata": {},
   "source": [
    "**Time complexity**:\n",
    "* The overall time complexity of this function is `O(n)`, where `n` is the number of elements in the dictionary `my_dict`.\n",
    "* This is determined by the `max()` function, which iterates through all the keys in the dictionary.\n",
    "\n",
    "**Space complexity**:\n",
    "* The space complexity of this function is `O(1)`, as it does not create any additional data structures or store any intermediate values.\n",
    "* The `max()` function only keeps track of the current maximum value and its corresponding key, which requires constant space."
   ]
  },
  {
   "cell_type": "markdown",
   "id": "1312f4a5-aedf-422e-b849-12e8073a1bef",
   "metadata": {},
   "source": [
    "# Reverse Key-Value Pairs"
   ]
  },
  {
   "cell_type": "markdown",
   "id": "bb72c521-87d7-4522-b6ab-80e2023ab0bb",
   "metadata": {},
   "source": [
    "Define a function that takes as a parameter dictionary and returns a dictionary in which the key-value pairs are reversed.\n",
    "\n",
    "**Example**:\n",
    "```python\n",
    "my_dict = {'a': 1, 'b': 2, 'c': 3}\n",
    "reverse_dict(my_dict)\n",
    "```\n",
    "**Output**:\n",
    "```json\n",
    "{1: 'a', 2: 'b', 3: 'c'}\n",
    "```"
   ]
  },
  {
   "cell_type": "code",
   "execution_count": 9,
   "id": "1485daa5-69ce-42e1-86b9-7737621b2b4c",
   "metadata": {},
   "outputs": [
    {
     "name": "stdout",
     "output_type": "stream",
     "text": [
      "{1: 'a', 2: 'b', 3: 'c'}\n"
     ]
    }
   ],
   "source": [
    "# Solution\n",
    "\n",
    "def reverse_dict(my_dict):\n",
    "    return {value:key for key, value in my_dict.items()}\n",
    "\n",
    "my_dict = {'a': 1, 'b': 2, 'c': 3}\n",
    "print(reverse_dict(my_dict))"
   ]
  },
  {
   "cell_type": "markdown",
   "id": "56db39c9-1696-42a2-bec2-96f1337ced3c",
   "metadata": {},
   "source": [
    "**Time complexity**:\n",
    "* The overall time complexity of this function is `O(n)`, where n is the number of elements in the dictionary `my_dict`.\n",
    "* This is determined by the dictionary comprehension, which iterates through all the key-value pairs in the input dictionary.\n",
    "\n",
    "**Space complexity**:\n",
    "* The space complexity of this function is `O(n)`, where `n` is the number of elements in the dictionary `my_dict`.\n",
    "* This is because the function creates a new dictionary with the same number of elements as the input dictionary, but with reversed key-value pairs."
   ]
  },
  {
   "cell_type": "markdown",
   "id": "e71fdc0b-43d8-4b80-a061-a39821347697",
   "metadata": {},
   "source": [
    "# Conditional Filter"
   ]
  },
  {
   "cell_type": "markdown",
   "id": "e4df8fa6-54c4-4b17-bd6e-8e9673f0ea52",
   "metadata": {},
   "source": [
    "Define a function that takes a dictionary as a parameter and returns a dictionary with elements based on a condition.\n",
    "\n",
    "**Example**:\n",
    "```python\n",
    "my_dict = {'a': 1, 'b': 2, 'c': 3, 'd': 4} \n",
    "filtered_dict = filter_dict(my_dict, lambda k, v: v % 2 == 0)\n",
    "```\n",
    "             \n",
    "**Output**:\n",
    "```json\n",
    "{'b': 2, 'd': 4}\n",
    "```"
   ]
  },
  {
   "cell_type": "code",
   "execution_count": 10,
   "id": "f33a3741-203f-4ef6-95b3-d7850783687f",
   "metadata": {},
   "outputs": [
    {
     "name": "stdout",
     "output_type": "stream",
     "text": [
      "{'b': 2, 'd': 4}\n"
     ]
    }
   ],
   "source": [
    "def filter_dict(my_dict, condition):\n",
    "    return {key:value for key, value in my_dict.items() if condition(key,value)}\n",
    "\n",
    "\n",
    "my_dict = {'a': 1, 'b': 2, 'c': 3, 'd': 4}\n",
    "filtered_dict = filter_dict(my_dict, lambda k, v: v % 2 == 0)\n",
    "new_dict = {key: value for key, value in filtered_dict.items()}\n",
    "print(new_dict)"
   ]
  },
  {
   "cell_type": "markdown",
   "id": "5eea2d57-e136-482a-a0cf-6d9d6574e69e",
   "metadata": {},
   "source": [
    "**Time complexity**:\n",
    "* The overall time complexity of this function is `O(n)`, where n is the number of elements in the dictionary `my_dict`.\n",
    "* This is determined by the dictionary comprehension, which iterates through all the key-value pairs in the input dictionary.\n",
    "\n",
    "**Space complexity**:\n",
    "* The space complexity of this function depends on the number of elements in the filtered dictionary, which in turn depends on the condition function.\n",
    "* In the worst case, when all key-value pairs meet the condition, the space complexity is `O(n)`, where n is the number of elements in the dictionary `my_dict`.\n",
    "* In the best case, when no key-value pairs meet the condition, the space complexity is `O(1)` as the function creates an empty dictionary."
   ]
  },
  {
   "cell_type": "markdown",
   "id": "b3480cd2-ef25-48ba-b44b-a0f0639e7e81",
   "metadata": {},
   "source": [
    "# Same Frequency"
   ]
  },
  {
   "cell_type": "markdown",
   "id": "4616b923-a323-4d89-a007-10a605b7a623",
   "metadata": {},
   "source": [
    "Define a function that takes two lists as parameters and checks if the two given lists have the same frequency of elements.\n",
    "\n",
    "**Example**:\n",
    "```python\n",
    "list1 = [1, 2, 3, 2, 1]\n",
    "list2 = [3, 1, 2, 1, 3]\n",
    "check_same_frequency(list1, list2)\n",
    "```\n",
    "\n",
    "**Output**:\n",
    "```\n",
    "False\n",
    "```"
   ]
  },
  {
   "cell_type": "code",
   "execution_count": 11,
   "id": "eba4cd8c-31e2-4410-a83b-0b5b26a3879f",
   "metadata": {},
   "outputs": [
    {
     "name": "stdout",
     "output_type": "stream",
     "text": [
      "False\n"
     ]
    }
   ],
   "source": [
    "# Solution\n",
    "\n",
    "def check_same_frequency(list1, list2):\n",
    "    def count_elements(lst):\n",
    "        counter = {}\n",
    "        for element in lst:\n",
    "            counter[element] = counter.get(element, 0) + 1\n",
    "        return counter\n",
    "    \n",
    "    return count_elements(list1) == count_elements(list2)\n",
    "    \n",
    "\n",
    "list1 = [1, 2, 3, 2, 1]\n",
    "list2 = [3, 1, 2, 1, 3]\n",
    "\n",
    "print(check_same_frequency(list1, list2))\n"
   ]
  },
  {
   "cell_type": "markdown",
   "id": "016d567d-31c8-4042-88f9-6535d319f868",
   "metadata": {},
   "source": [
    "**Time complexity**:\n",
    "* The overall time complexity of this function is `O(n1 + n2 + min(m1, m2))`, where n1 and n2 are the lengths of `list1` and `list2`, and `m1` and `m2` are the numbers of distinct elements in `list1` and `list2`, respectively.\n",
    "* This is determined by the time complexity of the `count_elements()` function and the dictionary comparison.\n",
    "\n",
    "**Space complexity**:\n",
    "* The space complexity of this function is `O(m1 + m2)`, where `m1` and `m2` are the numbers of distinct elements in `list1` and `list2`, respectively.\n",
    "* This is because the function creates two dictionaries with as many keys as there are distinct elements in the input lists."
   ]
  },
  {
   "cell_type": "code",
   "execution_count": null,
   "id": "59c09b12-ff77-4379-a586-f5a7e3b66c7b",
   "metadata": {},
   "outputs": [],
   "source": []
  }
 ],
 "metadata": {
  "kernelspec": {
   "display_name": "Python 3 (ipykernel)",
   "language": "python",
   "name": "python3"
  },
  "language_info": {
   "codemirror_mode": {
    "name": "ipython",
    "version": 3
   },
   "file_extension": ".py",
   "mimetype": "text/x-python",
   "name": "python",
   "nbconvert_exporter": "python",
   "pygments_lexer": "ipython3",
   "version": "3.12.5"
  }
 },
 "nbformat": 4,
 "nbformat_minor": 5
}
