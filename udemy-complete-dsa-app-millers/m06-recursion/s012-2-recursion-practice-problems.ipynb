{
 "cells": [
  {
   "cell_type": "markdown",
   "id": "a64cc66b-9b38-44ee-beb1-3dd371e4f2df",
   "metadata": {},
   "source": [
    "# Power"
   ]
  },
  {
   "cell_type": "markdown",
   "id": "b7e63c53-7155-449c-b869-920285a88353",
   "metadata": {},
   "source": [
    "**Write a function called power which accepts a base and an exponent.**\n",
    "* The function should return the power of the base to the exponent.\n",
    "* This function should mimic the functionality of `math.pow()` - do not worry about negative bases and exponents.\n",
    "\n",
    "**Examples**\n",
    "\n",
    "```python\n",
    "power(2,0) # 1\n",
    "power(2,2) # 4\n",
    "power(2,4) # 16\n",
    "```"
   ]
  },
  {
   "cell_type": "code",
   "execution_count": 20,
   "id": "3703b183-fa7d-4f1b-878c-177d76e3a9a7",
   "metadata": {},
   "outputs": [
    {
     "name": "stdout",
     "output_type": "stream",
     "text": [
      "1\n",
      "4\n",
      "16\n"
     ]
    }
   ],
   "source": [
    "# Solution\n",
    "def power(base, exponent):\n",
    "    if exponent == 0:\n",
    "        return 1\n",
    "    return base * power(base, exponent-1)\n",
    "\n",
    "print(power(2,0)) # 1\n",
    "print(power(2,2)) # 4\n",
    "print(power(2,4)) # 16"
   ]
  },
  {
   "cell_type": "markdown",
   "id": "ea0f668d-ce5a-4cd0-b0ae-c03926bd8dce",
   "metadata": {},
   "source": [
    "# Factorial"
   ]
  },
  {
   "cell_type": "markdown",
   "id": "2b6b2624-086a-4d17-aed8-af88818e4082",
   "metadata": {},
   "source": [
    "**Write a function factorial which accepts a number and returns the factorial of that number.** \n",
    "* A factorial is the product of an integer and all the integers below it;\n",
    "* e.g., factorial four ( `4!` ) is equal to `24`, because `4 * 3 * 2 * 1` equals `24`.\n",
    "* factorial zero (`0!`) is always `1`.\n",
    "\n",
    "**Examples**\n",
    "\n",
    "```python\n",
    "factorial(1) # 1\n",
    "factorial(2) # 2\n",
    "factorial(4) # 24\n",
    "factorial(7) # 5040\n",
    "```"
   ]
  },
  {
   "cell_type": "code",
   "execution_count": 21,
   "id": "7e50b6bb-bffa-431d-88ba-9ebb22818cdd",
   "metadata": {},
   "outputs": [
    {
     "name": "stdout",
     "output_type": "stream",
     "text": [
      "1\n",
      "2\n",
      "24\n",
      "5040\n"
     ]
    }
   ],
   "source": [
    "# Solution\n",
    "def factorial(num):\n",
    "    if num <= 1:\n",
    "        return 1\n",
    "    return num * factorial(num-1)\n",
    "\n",
    "print(factorial(1)) # 1\n",
    "print(factorial(2)) # 2\n",
    "print(factorial(4)) # 24\n",
    "print(factorial(7)) # 5040"
   ]
  },
  {
   "cell_type": "markdown",
   "id": "7cd10b5f-57bc-49e0-830d-08f3977c12c9",
   "metadata": {},
   "source": [
    "# ProductofArray"
   ]
  },
  {
   "cell_type": "markdown",
   "id": "45fa203f-a161-4807-91b9-e87e9cb9ad7f",
   "metadata": {},
   "source": [
    "**Write a function called productOfArray which takes in an array of numbers and returns the product of them all.**\n",
    "\n",
    "**Examples**\n",
    "\n",
    "```python\n",
    "productOfArray([1,2,3]) #6\n",
    "productOfArray([1,2,3,10]) #60\n",
    "```"
   ]
  },
  {
   "cell_type": "code",
   "execution_count": 22,
   "id": "f3740f6b-2e9c-4abb-bb65-3a408137acea",
   "metadata": {},
   "outputs": [
    {
     "name": "stdout",
     "output_type": "stream",
     "text": [
      "6\n",
      "60\n"
     ]
    }
   ],
   "source": [
    "# Solution\n",
    "def productOfArray(arr):\n",
    "    if len(arr) == 0:\n",
    "        return 1\n",
    "    return arr[0] * productOfArray(arr[1:])\n",
    "\n",
    "print(productOfArray([1,2,3])) #6\n",
    "print(productOfArray([1,2,3,10])) #60"
   ]
  },
  {
   "cell_type": "markdown",
   "id": "4d95b274-8993-47c7-ac59-134aaaece22e",
   "metadata": {},
   "source": [
    "# RecursiveRange"
   ]
  },
  {
   "cell_type": "markdown",
   "id": "070a3a56-9cc6-47e1-90b8-6422560c9c36",
   "metadata": {},
   "source": [
    "**Write a function called recursiveRange which accepts a number and adds up all the numbers from 0 to the number passed to the function.**\n",
    "\n",
    "**Examples**\n",
    "\n",
    "```python\n",
    "recursiveRange(6) # 21\n",
    "recursiveRange(10) # 55\n",
    "```"
   ]
  },
  {
   "cell_type": "code",
   "execution_count": 23,
   "id": "6556a535-1b6d-4a76-b3af-a81e73dc6ee9",
   "metadata": {},
   "outputs": [
    {
     "name": "stdout",
     "output_type": "stream",
     "text": [
      "21\n",
      "55\n"
     ]
    }
   ],
   "source": [
    "# Solution\n",
    "def recursiveRange(num):\n",
    "    if num <= 0:\n",
    "        return 0\n",
    "    return num + recursiveRange(num - 1)\n",
    "\n",
    "print(recursiveRange(6)) # 21\n",
    "print(recursiveRange(10)) # 55"
   ]
  },
  {
   "cell_type": "markdown",
   "id": "e5432fe7-876f-4ca5-bb7d-92482036f2bc",
   "metadata": {},
   "source": [
    "# Fibonacci"
   ]
  },
  {
   "cell_type": "markdown",
   "id": "7a7c8479-2af7-4fee-ad1f-89a4bea20b4c",
   "metadata": {},
   "source": [
    "**Write a recursive function called fib which accepts a number and returns the nth number in the Fibonacci sequence.** Recall that the Fibonacci sequence is the sequence of whole numbers `0,1, 1, 2, 3, 5, 8, ...` which starts with `0` and `1`, and where every number thereafter is equal to the sum of the previous two numbers.\n",
    "\n",
    "**Examples**\n",
    "\n",
    "```python\n",
    "fib(4) # 3\n",
    "fib(10) # 55\n",
    "fib(28) # 317811\n",
    "fib(35) # 9227465\n",
    "```"
   ]
  },
  {
   "cell_type": "code",
   "execution_count": 24,
   "id": "e75fa3b2-0fa4-42bd-af13-38391bb69358",
   "metadata": {},
   "outputs": [
    {
     "name": "stdout",
     "output_type": "stream",
     "text": [
      "3\n",
      "55\n",
      "317811\n",
      "9227465\n"
     ]
    }
   ],
   "source": [
    "# Solution\n",
    "def fib(num):\n",
    "    if (num < 2):\n",
    "        return num\n",
    "    return fib(num - 1) + fib(num - 2)\n",
    "\n",
    "print(fib(4)) # 3\n",
    "print(fib(10)) # 55\n",
    "print(fib(28)) # 317811\n",
    "print(fib(35)) # 9227465"
   ]
  },
  {
   "cell_type": "markdown",
   "id": "8c3d628f-dd70-4727-a72a-28c3336b5d1c",
   "metadata": {},
   "source": [
    "# Reverse a string"
   ]
  },
  {
   "cell_type": "markdown",
   "id": "8cc3612d-782e-4c17-944a-157e2f79562f",
   "metadata": {},
   "source": [
    "**Write a recursive function called reverse which accepts a string and returns a new string in reverse.**\n",
    "\n",
    "**Examples**\n",
    "\n",
    "```python\n",
    "reverse('python') # 'nohtyp'\n",
    "reverse('appmillers') # 'srellimppa'\n",
    "```"
   ]
  },
  {
   "cell_type": "code",
   "execution_count": 25,
   "id": "e6087d50-928d-449e-bab8-47639641b05c",
   "metadata": {},
   "outputs": [
    {
     "name": "stdout",
     "output_type": "stream",
     "text": [
      "nohtyp\n",
      "srellimppa\n"
     ]
    }
   ],
   "source": [
    "# Solution\n",
    "def reverse(strng):\n",
    "    if len(strng) <= 1:\n",
    "      return strng\n",
    "    return strng[len(strng)-1] + reverse(strng[0:len(strng)-1])\n",
    "\n",
    "print(reverse('python')) # 'nohtyp'\n",
    "print(reverse('appmillers')) # 'srellimppa'"
   ]
  },
  {
   "cell_type": "markdown",
   "id": "927838e1-6a9c-47ee-84fb-748c03196cf1",
   "metadata": {},
   "source": [
    "# isPalindrome"
   ]
  },
  {
   "cell_type": "markdown",
   "id": "45b3a279-e07c-4a70-b9b3-9ad851e879bf",
   "metadata": {},
   "source": [
    "**Write a recursive function called isPalindrome which returns true if the string passed to it is a palindrome (reads the same forward and backward). Otherwise it returns false.**\n",
    "\n",
    "**Examples**\n",
    "\n",
    "```python\n",
    "isPalindrome('awesome') # false\n",
    "isPalindrome('foobar') # false\n",
    "isPalindrome('tacocat') # true\n",
    "isPalindrome('amanaplanacanalpanama') # true\n",
    "isPalindrome('amanaplanacanalpandemonium') # false\n",
    "```"
   ]
  },
  {
   "cell_type": "code",
   "execution_count": 26,
   "id": "1eb13eb0-e270-4550-abe0-810d3a72d0e9",
   "metadata": {},
   "outputs": [
    {
     "name": "stdout",
     "output_type": "stream",
     "text": [
      "False\n",
      "False\n",
      "True\n",
      "True\n",
      "False\n"
     ]
    }
   ],
   "source": [
    "# Solution\n",
    "def isPalindrome(strng):\n",
    "    if len(strng) == 0:\n",
    "        return True\n",
    "    if strng[0] != strng[len(strng)-1]:\n",
    "        return False\n",
    "    return isPalindrome(strng[1:-1])\n",
    "\n",
    "print(isPalindrome('awesome')) # false\n",
    "print(isPalindrome('foobar')) # false\n",
    "print(isPalindrome('tacocat')) # true\n",
    "print(isPalindrome('amanaplanacanalpanama')) # true\n",
    "print(isPalindrome('amanaplanacanalpandemonium')) # false"
   ]
  },
  {
   "cell_type": "markdown",
   "id": "c9e97115-a6c4-49f7-9831-88cb4a928b0e",
   "metadata": {},
   "source": [
    "# someRecursive"
   ]
  },
  {
   "cell_type": "markdown",
   "id": "4a3b135c-baa0-44ad-82f8-b74883d2b179",
   "metadata": {},
   "source": [
    "**Write a recursive function called someRecursive which accepts an array and a callback.** \n",
    "* The function returns `true` if a single value in the array returns true when passed to the callback. \n",
    "* Otherwise it returns `false`.\n",
    "\n",
    "**Examples**\n",
    "\n",
    "```python\n",
    "someRecursive([1,2,3,4], isOdd) # true\n",
    "someRecursive([4,6,8,9], isOdd) # true\n",
    "someRecursive([4,6,8], isOdd) # false\n",
    "```"
   ]
  },
  {
   "cell_type": "code",
   "execution_count": 27,
   "id": "e5f7ecb4-ccc3-4ee0-80d1-8aa80ff12d18",
   "metadata": {},
   "outputs": [
    {
     "name": "stdout",
     "output_type": "stream",
     "text": [
      "True\n",
      "True\n",
      "False\n"
     ]
    }
   ],
   "source": [
    "# Solution\n",
    "def someRecursive(arr, cb):\n",
    "    if len(arr) == 0:\n",
    "        return False\n",
    "    if not(cb(arr[0])):\n",
    "        return someRecursive(arr[1:], cb)\n",
    "    return True\n",
    " \n",
    "def isOdd(num):\n",
    "    if num%2==0:\n",
    "        return False\n",
    "    else:\n",
    "        return True\n",
    "\n",
    "print(someRecursive([1,2,3,4], isOdd)) # true\n",
    "print(someRecursive([4,6,8,9], isOdd)) # true\n",
    "print(someRecursive([4,6,8], isOdd)) # false"
   ]
  },
  {
   "cell_type": "markdown",
   "id": "f3ca1283-ce59-4c98-b34a-aafd23a83d24",
   "metadata": {},
   "source": [
    "# flatten list"
   ]
  },
  {
   "cell_type": "markdown",
   "id": "1da1b2a0-3fc7-4d2f-b70c-8a865a7604f7",
   "metadata": {},
   "source": [
    "**Write a recursive function called flatten which accepts an array of arrays and returns a new array with all values flattened.**\n",
    "\n",
    "**Examples**\n",
    "\n",
    "```python  \n",
    "flatten([1, 2, 3, [4, 5]]) # [1, 2, 3, 4, 5]\n",
    "flatten([1, [2, [3, 4], [[5]]]]) # [1, 2, 3, 4, 5]\n",
    "flatten([[1], [2], [3]]) # [1, 2, 3]\n",
    "flatten([[[[1], [[[2]]], [[[[[[[3]]]]]]]]]]) # [1, 2, 3]\n",
    "```"
   ]
  },
  {
   "cell_type": "code",
   "execution_count": 35,
   "id": "7f134399-d03e-47af-a9f2-49189ce51e25",
   "metadata": {},
   "outputs": [
    {
     "name": "stdout",
     "output_type": "stream",
     "text": [
      "[1, 2, 3, 4, 5]\n",
      "[1, 2, 3, 4, 5]\n",
      "[1, 2, 3]\n",
      "[1, 2, 3]\n"
     ]
    }
   ],
   "source": [
    "# Solution\n",
    "def flatten(arr):\n",
    "    resultArr = []\n",
    "    for custItem in arr:\n",
    "        if type(custItem) is list:\n",
    "            resultArr.extend(flatten(custItem))\n",
    "        else: \n",
    "            resultArr.append(custItem)\n",
    "    return resultArr\n",
    "\n",
    "print(flatten([1, 2, 3, [4, 5]])) # [1, 2, 3, 4, 5]\n",
    "print(flatten([1, [2, [3, 4], [[5]]]])) # [1, 2, 3, 4, 5]\n",
    "print(flatten([[1], [2], [3]])) # [1, 2, 3]\n",
    "print(flatten([[[[1], [[[2]]], [[[[[[[3]]]]]]]]]])) # [1, 2, 3]"
   ]
  },
  {
   "cell_type": "markdown",
   "id": "666841a1-e161-479c-94c2-722c73fb0ae6",
   "metadata": {},
   "source": [
    "# captalizeFirst"
   ]
  },
  {
   "cell_type": "markdown",
   "id": "52180502-0056-4737-9ea1-c14573a0e18d",
   "metadata": {},
   "source": [
    "**Write a recursive function called capitalizeFirst. Given an array of strings, capitalize the first letter of each string in the array.**\n",
    "\n",
    "**Example**\n",
    "\n",
    "```python\n",
    "capitalizeFirst(['car', 'taco', 'banana']) # ['Car','Taco','Banana']\n",
    "```"
   ]
  },
  {
   "cell_type": "code",
   "execution_count": 34,
   "id": "2cb67102-802c-47b5-be42-95b4fa4ef4ae",
   "metadata": {},
   "outputs": [
    {
     "data": {
      "text/plain": [
       "['Car', 'Taco', 'Banana']"
      ]
     },
     "execution_count": 34,
     "metadata": {},
     "output_type": "execute_result"
    }
   ],
   "source": [
    "# Solution\n",
    "\n",
    "def capitalizeFirst(arr):\n",
    "    result = []\n",
    "    if len(arr) == 0:\n",
    "        return result\n",
    "    result.append(arr[0][0].upper() + arr[0][1:])\n",
    "    return result + capitalizeFirst(arr[1:]) \n",
    "\n",
    "capitalizeFirst(['car', 'taco', 'banana']) # ['Car','Taco','Banana']"
   ]
  },
  {
   "cell_type": "markdown",
   "id": "64ab27d1-d731-40ef-98aa-101820a8f357",
   "metadata": {},
   "source": [
    "# nestedEvenSum"
   ]
  },
  {
   "cell_type": "markdown",
   "id": "fe191091-0ef1-472e-9e2b-d3abf5748210",
   "metadata": {},
   "source": [
    "**Write a recursive function called nestedEvenSum. Return the sum of all even numbers in an object which may contain nested objects.**\n",
    "\n",
    "**Examples**\n",
    "\n",
    "```python\n",
    "obj1 = {\n",
    "  \"outer\": 2,\n",
    "  \"obj\": {\n",
    "    \"inner\": 2,\n",
    "    \"otherObj\": {\n",
    "      \"superInner\": 2,\n",
    "      \"notANumber\": True,\n",
    "      \"alsoNotANumber\": \"yup\"\n",
    "    }\n",
    "  }\n",
    "}\n",
    " \n",
    "obj2 = {\n",
    "  \"a\": 2,\n",
    "  \"b\": {\"b\": 2, \"bb\": {\"b\": 3, \"bb\": {\"b\": 2}}},\n",
    "  \"c\": {\"c\": {\"c\": 2}, \"cc\": 'ball', \"ccc\": 5},\n",
    "  \"d\": 1,\n",
    "  \"e\": {\"e\": {\"e\": 2}, \"ee\": 'car'}\n",
    "}\n",
    " \n",
    "nestedEvenSum(obj1) # 6\n",
    "nestedEvenSum(obj2) # 10\n",
    "```"
   ]
  },
  {
   "cell_type": "code",
   "execution_count": 36,
   "id": "3f42fa79-798f-44e0-9502-baa5669d145e",
   "metadata": {},
   "outputs": [
    {
     "name": "stdout",
     "output_type": "stream",
     "text": [
      "6\n",
      "10\n"
     ]
    }
   ],
   "source": [
    "# Solution\n",
    "\n",
    "obj1 = {\n",
    "  \"outer\": 2,\n",
    "  \"obj\": {\n",
    "    \"inner\": 2,\n",
    "    \"otherObj\": {\n",
    "      \"superInner\": 2,\n",
    "      \"notANumber\": True,\n",
    "      \"alsoNotANumber\": \"yup\"\n",
    "    }\n",
    "  }\n",
    "}\n",
    "\n",
    "obj2 = {\n",
    "  \"a\": 2,\n",
    "  \"b\": {\"b\": 2, \"bb\": {\"b\": 3, \"bb\": {\"b\": 2}}},\n",
    "  \"c\": {\"c\": {\"c\": 2}, \"cc\": 'ball', \"ccc\": 5},\n",
    "  \"d\": 1,\n",
    "  \"e\": {\"e\": {\"e\": 2}, \"ee\": 'car'}\n",
    "}\n",
    "\n",
    "def nestedEvenSum(obj, sum=0):\n",
    "    for key in obj:\n",
    "        if type(obj[key]) is dict:\n",
    "            sum += nestedEvenSum(obj[key])\n",
    "        elif type(obj[key]) is int and obj[key]%2==0:\n",
    "            sum+=obj[key]\n",
    "    return sum\n",
    "\n",
    "print(nestedEvenSum(obj1)) # 6\n",
    "print(nestedEvenSum(obj2)) # 10"
   ]
  },
  {
   "cell_type": "markdown",
   "id": "6030112e-5ea4-4e17-a6ac-512c8eefa561",
   "metadata": {},
   "source": [
    "# capitalizeWords"
   ]
  },
  {
   "cell_type": "markdown",
   "id": "43fd3001-ca22-4e39-aea2-2d96e5aab994",
   "metadata": {},
   "source": [
    "**Write a recursive function called capitalizeWords. Given an array of words, return a new array containing each word capitalized.**\n",
    "\n",
    "**Examples**\n",
    "\n",
    "```python\n",
    "words = ['i', 'am', 'learning', 'recursion']\n",
    "capitalizeWords(words) # ['I', 'AM', 'LEARNING', 'RECURSION']\n",
    "```"
   ]
  },
  {
   "cell_type": "code",
   "execution_count": 37,
   "id": "e2bbd743-9d22-470a-8437-51035d381fe5",
   "metadata": {},
   "outputs": [
    {
     "data": {
      "text/plain": [
       "['I', 'AM', 'LEARNING', 'RECURSION']"
      ]
     },
     "execution_count": 37,
     "metadata": {},
     "output_type": "execute_result"
    }
   ],
   "source": [
    "# Solution\n",
    "\n",
    "def capitalizeWords(arr):\n",
    "    result = []\n",
    "    if len(arr) == 0:\n",
    "        return result\n",
    "    result.append(arr[0].upper())\n",
    "    return result + capitalizeWords(arr[1:])\n",
    "\n",
    "words = ['i', 'am', 'learning', 'recursion']\n",
    "capitalizeWords(words) # ['I', 'AM', 'LEARNING', 'RECURSION']"
   ]
  },
  {
   "cell_type": "markdown",
   "id": "21654107-bfb8-416e-8ab2-ea130a9bb0ae",
   "metadata": {},
   "source": [
    "# stringifyNumbers"
   ]
  },
  {
   "cell_type": "markdown",
   "id": "ca1ad743-8d13-4734-80ed-2d824a434e76",
   "metadata": {},
   "source": [
    "**Write a function called stringifyNumbers which takes in an object and finds all of the values which are numbers and converts them to strings.** \n",
    "\n",
    "Recursion would be a great way to solve this!\n",
    "\n",
    "**Examples**\n",
    "\n",
    "```python\n",
    "obj = {\n",
    "  \"num\": 1,\n",
    "  \"test\": [],\n",
    "  \"data\": {\n",
    "    \"val\": 4,\n",
    "    \"info\": {\n",
    "      \"isRight\": True,\n",
    "      \"random\": 66\n",
    "    }\n",
    "  }\n",
    "}\n",
    " \n",
    "stringifyNumbers(obj)\n",
    " \n",
    "{'num': '1', \n",
    " 'test': [], \n",
    " 'data': {'val': '4', \n",
    "          'info': {'isRight': True, 'random': '66'}\n",
    "          }\n",
    "}\n",
    "```"
   ]
  },
  {
   "cell_type": "code",
   "execution_count": 38,
   "id": "8558c8fe-0580-4f13-8ee4-581dd469e12a",
   "metadata": {},
   "outputs": [
    {
     "data": {
      "text/plain": [
       "{'num': '1',\n",
       " 'test': [],\n",
       " 'data': {'val': '4', 'info': {'isRight': True, 'random': '66'}}}"
      ]
     },
     "execution_count": 38,
     "metadata": {},
     "output_type": "execute_result"
    }
   ],
   "source": [
    "# Solution\n",
    "def stringifyNumbers(obj):\n",
    "    newObj = obj\n",
    "    for key in newObj:\n",
    "        if type(newObj[key]) is int:\n",
    "            newObj[key] = str(newObj[key])\n",
    "        if type(newObj[key]) is dict:\n",
    "            newObj[key] = stringifyNumbers(newObj[key])\n",
    "    return newObj\n",
    "\n",
    "obj = {\n",
    "  \"num\": 1,\n",
    "  \"test\": [],\n",
    "  \"data\": {\n",
    "    \"val\": 4,\n",
    "    \"info\": {\n",
    "      \"isRight\": True,\n",
    "      \"random\": 66\n",
    "    }\n",
    "  }\n",
    "}\n",
    " \n",
    "stringifyNumbers(obj)"
   ]
  },
  {
   "cell_type": "markdown",
   "id": "f6c46599-ddc8-4d5e-b460-13b33ef2227e",
   "metadata": {},
   "source": [
    "# collectStrings"
   ]
  },
  {
   "cell_type": "markdown",
   "id": "194e275e-2d3c-4388-9e40-34f0b6915240",
   "metadata": {},
   "source": [
    "**Write a function called collectStrings which accepts an object and returns an array of all the values in the object that have a typeof string.**\n",
    "\n",
    "**Examples**\n",
    "\n",
    "```python\n",
    "obj = {\n",
    "  \"stuff\": 'foo',\n",
    "  \"data\": {\n",
    "    \"val\": {\n",
    "      \"thing\": {\n",
    "        \"info\": 'bar',\n",
    "        \"moreInfo\": {\n",
    "          \"evenMoreInfo\": {\n",
    "            \"weMadeIt\": 'baz'\n",
    "          }\n",
    "        }\n",
    "      }\n",
    "    }\n",
    "  }\n",
    "}\n",
    " \n",
    "collectStrings(obj) # ['foo', 'bar', 'baz']\n",
    "```"
   ]
  },
  {
   "cell_type": "code",
   "execution_count": 39,
   "id": "d6bc3e2e-a222-4fdb-a8af-9589dfe8f92e",
   "metadata": {},
   "outputs": [
    {
     "data": {
      "text/plain": [
       "['foo', 'bar', 'baz']"
      ]
     },
     "execution_count": 39,
     "metadata": {},
     "output_type": "execute_result"
    }
   ],
   "source": [
    "# Solution\n",
    "\n",
    "def collectStrings(obj):\n",
    "    resultArr = []\n",
    "    for key in obj:\n",
    "        if type(obj[key]) is str:\n",
    "            resultArr.append(obj[key])\n",
    "        if type(obj[key]) is dict:\n",
    "            resultArr = resultArr + collectStrings(obj[key])\n",
    "    return resultArr\n",
    "\n",
    "obj = {\n",
    "  \"stuff\": 'foo',\n",
    "  \"data\": {\n",
    "    \"val\": {\n",
    "      \"thing\": {\n",
    "        \"info\": 'bar',\n",
    "        \"moreInfo\": {\n",
    "          \"evenMoreInfo\": {\n",
    "            \"weMadeIt\": 'baz'\n",
    "          }\n",
    "        }\n",
    "      }\n",
    "    }\n",
    "  }\n",
    "}\n",
    " \n",
    "collectStrings(obj) # ['foo', 'bar', 'baz']"
   ]
  },
  {
   "cell_type": "code",
   "execution_count": null,
   "id": "75ae67f2-dba9-40eb-bf76-54f32d47186a",
   "metadata": {},
   "outputs": [],
   "source": []
  }
 ],
 "metadata": {
  "kernelspec": {
   "display_name": "Python 3 (ipykernel)",
   "language": "python",
   "name": "python3"
  },
  "language_info": {
   "codemirror_mode": {
    "name": "ipython",
    "version": 3
   },
   "file_extension": ".py",
   "mimetype": "text/x-python",
   "name": "python",
   "nbconvert_exporter": "python",
   "pygments_lexer": "ipython3",
   "version": "3.13.7"
  }
 },
 "nbformat": 4,
 "nbformat_minor": 5
}
