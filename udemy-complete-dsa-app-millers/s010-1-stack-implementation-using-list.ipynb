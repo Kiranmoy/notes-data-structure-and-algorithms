{
 "cells": [
  {
   "cell_type": "markdown",
   "id": "b0ffb4e8-7441-4854-a3e5-18e0229333f7",
   "metadata": {},
   "source": [
    "# Introduction"
   ]
  },
  {
   "attachments": {
    "792c92e0-565f-4f10-a52e-03708e9501cb.png": {
     "image/png": "[encoded data removed]"
    }
   },
   "cell_type": "markdown",
   "id": "cd9b3989-6e08-4cb0-8081-b6e49a20553a",
   "metadata": {},
   "source": [
    "A stack can be implemented using either a **list** or a **linked list** in Python.\n",
    "\n",
    "Here we'll look into **Stack using List**.\n",
    "\n",
    "We can insert elements:\n",
    "* either at the beginning of a list.\n",
    "* or at the end of a list.\n",
    "\n",
    "Now the question is **which end we should use for our stack**.\n",
    "* If we insert an element at the beginning of the list, all existing elements must be shifted one position to the right. This operation is costly in terms of time. As a result, the time complexity becomes `O(N)`.\n",
    "* Similarly, if we remove an element from the beginning of the list, the remaining elements shift one position to the left. This again has a complexity of `O(N)`.\n",
    "\n",
    "Because of this, when implementing a stack using a Python list, it's important to be strategic about which end we use; using the beginning of the list is inefficient due to the shift operations.\n",
    "* That's why we focus on using the end-of-the-list inserting element at the end.\n",
    "* Using the `append()` method is fast, and no elements are moved.\n",
    "* The time complexity for this one is going to be `O(1)`.\n",
    "* Likewise, we'll use the `pop()` method for removing an element from the end of the list is going to be `O(1)`. \n",
    "* Here again, no shifting occurs.\n",
    "\n",
    "Whenever you are implementing a stack using a list in Python, especially in interviews, you should always use the end of the list as the **top of the stack**.\n",
    "* Each time we insert a new element, it gets added to the end above the previous top element.\n",
    "* Each time we remove, we take the last element, which was the most recently added.\n",
    "\n",
    "![image.png](attachment:792c92e0-565f-4f10-a52e-03708e9501cb.png)\n",
    "\n",
    "**Example**:\n",
    "\n",
    "```python\n",
    "customStack = [ ]\n",
    "customStack.push(1) # [1]\n",
    "customStack.push(2) # [1, 2]\n",
    "customStack.push(3) # [1, 2, 3]\n",
    "customStack.push(4) # [1, 2, 3, 4]\n",
    "\n",
    "customStack.pop()    # 4 -> customStack = [1, 2, 3]\n",
    "customStack.pop()    # 3 -> customStack = [1, 2]\n",
    "customStack.pop()    # 2 -> customStack = [1]\n",
    "customStack.pop()    # 1 -> customStack = []\n",
    "customStack.pop()    # Error - Stack is Empty\n",
    "\n",
    "customStack = [1,2,3,4]\n",
    "customStack.peek()   # 4 -> customStack = [1, 2, 3, 4] \n",
    "```\n",
    "\n"
   ]
  },
  {
   "cell_type": "markdown",
   "id": "1a32a223-39b2-464b-85d9-86aa125f7f97",
   "metadata": {},
   "source": [
    "# Stack Implementation using List"
   ]
  },
  {
   "cell_type": "code",
   "execution_count": 28,
   "id": "2efbe64c-51cd-46db-8752-f96c2e4e7764",
   "metadata": {},
   "outputs": [
    {
     "name": "stdout",
     "output_type": "stream",
     "text": [
      "STACK REPRESENTATION:\n",
      "\n",
      "[] \n",
      "\n",
      "STACK REPRESENTATION:\n",
      "\n",
      "10\n",
      "9\n",
      "8\n",
      "5 \n",
      "\n",
      "STACK REPRESENTATION:\n",
      "\n",
      "10\n",
      "9\n",
      "8\n",
      "5 \n",
      "\n"
     ]
    }
   ],
   "source": [
    "class Stack:\n",
    "    def __init__(self):\n",
    "        self.items = []\n",
    "\n",
    "    # Push an element onto the stack\n",
    "    def push(self, element):\n",
    "        self.items.append(element)\n",
    "\n",
    "    # Pop an element off the stack\n",
    "    def pop(self):\n",
    "        if self.is_empty():\n",
    "            return \"Stack is empty []\"\n",
    "        return self.items.pop()\n",
    "\n",
    "    # Peek the top element of the stack without removing it\n",
    "    def peek(self):\n",
    "        if self.is_empty():\n",
    "            return \"Stack is empty[]\"\n",
    "        return self.items[-1]\n",
    "\n",
    "    # Check if the stack is empty\n",
    "    def is_empty(self):\n",
    "        return len(self.items) == 0\n",
    "\n",
    "    # Get the size of the stack\n",
    "    def size(self):\n",
    "        return len(self.items)\n",
    "\n",
    "    # String representation of the stack\n",
    "    def __str__(self):\n",
    "        print(\"STACK REPRESENTATION:\\n\")\n",
    "        if self.is_empty():\n",
    "            return \"[]\"\n",
    "        values = [str(x) for x in reversed(self.items)]\n",
    "        return '\\n'.join(values)\n",
    "\n",
    "    # Clear all elements from the stack\n",
    "    def clear(self):\n",
    "        self.items = []\n",
    "\n",
    "# Example usage\n",
    "my_stack = Stack()\n",
    "print(my_stack, \"\\n\")  # Print the stack (from top to bottom)\n",
    "\n",
    "my_stack.push(5)\n",
    "my_stack.push(8)\n",
    "my_stack.push(9)\n",
    "my_stack.push(10)\n",
    "\n",
    "print(my_stack, \"\\n\")  # Print the stack (from top to bottom)\n",
    "print(my_stack, \"\\n\")  # Print again to verify state hasn't changed"
   ]
  },
  {
   "cell_type": "code",
   "execution_count": 29,
   "id": "9cb5de09-9ec3-4455-b22e-5987dc3027eb",
   "metadata": {},
   "outputs": [
    {
     "name": "stdout",
     "output_type": "stream",
     "text": [
      "PEEK: 10\n",
      "STACK REPRESENTATION:\n",
      "\n",
      "10\n",
      "9\n",
      "8\n",
      "5 \n",
      "\n"
     ]
    }
   ],
   "source": [
    "print(\"PEEK: {}\".format(my_stack.peek()))     # 10\n",
    "print(my_stack, \"\\n\")"
   ]
  },
  {
   "cell_type": "code",
   "execution_count": 30,
   "id": "13b6c99c-9e4b-40f4-9e11-3b1e8431900b",
   "metadata": {},
   "outputs": [
    {
     "name": "stdout",
     "output_type": "stream",
     "text": [
      "POP: 10\n",
      "STACK REPRESENTATION:\n",
      "\n",
      "9\n",
      "8\n",
      "5 \n",
      "\n"
     ]
    }
   ],
   "source": [
    "print(\"POP: {}\".format(my_stack.pop()))\n",
    "print(my_stack, \"\\n\")"
   ]
  },
  {
   "cell_type": "code",
   "execution_count": 31,
   "id": "fe1565a7-664b-4035-b93c-de8ca730725f",
   "metadata": {},
   "outputs": [
    {
     "name": "stdout",
     "output_type": "stream",
     "text": [
      "PEEK: 9\n",
      "STACK REPRESENTATION:\n",
      "\n",
      "9\n",
      "8\n",
      "5 \n",
      "\n"
     ]
    }
   ],
   "source": [
    "print(\"PEEK: {}\".format(my_stack.peek()))     # 9\n",
    "print(my_stack, \"\\n\")"
   ]
  },
  {
   "cell_type": "code",
   "execution_count": 32,
   "id": "93b4133c-8662-4a3a-947f-8e0a8caa280f",
   "metadata": {},
   "outputs": [
    {
     "name": "stdout",
     "output_type": "stream",
     "text": [
      "IS EMPTY: False\n",
      "STACK SIZE: 3\n"
     ]
    }
   ],
   "source": [
    "print(\"IS EMPTY: {}\".format(my_stack.is_empty())) # False\n",
    "print(\"STACK SIZE: {}\".format(my_stack.size()))     # 3"
   ]
  },
  {
   "cell_type": "code",
   "execution_count": 33,
   "id": "907898c6-64d8-48ea-892b-efd83f734c92",
   "metadata": {},
   "outputs": [
    {
     "name": "stdout",
     "output_type": "stream",
     "text": [
      "STACK REPRESENTATION:\n",
      "\n",
      "[] \n",
      "\n"
     ]
    }
   ],
   "source": [
    "my_stack.clear()\n",
    "print(my_stack, \"\\n\")"
   ]
  },
  {
   "cell_type": "code",
   "execution_count": 34,
   "id": "94739dbf-719a-4252-8be6-fbee07d02f73",
   "metadata": {
    "jupyter": {
     "source_hidden": true
    }
   },
   "outputs": [
    {
     "name": "stdout",
     "output_type": "stream",
     "text": [
      "IS EMPTY: True\n"
     ]
    }
   ],
   "source": [
    "print(\"IS EMPTY: {}\".format(my_stack.is_empty())) # True"
   ]
  },
  {
   "cell_type": "markdown",
   "id": "0e8a5a13-835d-460b-89a1-d8310494c085",
   "metadata": {},
   "source": [
    "# Time and Space complexity of Stack operations with List"
   ]
  },
  {
   "cell_type": "markdown",
   "id": "ac9329f9-efc8-4f1b-b01b-c81e50f60d3b",
   "metadata": {},
   "source": [
    "| Operations | Time Complexity | Space Complexity |\n",
    "| -- | -- | -- |\n",
    "| Create Stack | `O(1)` | `O(1)` |\n",
    "| Push | `O(1)` | `O(1)` |\n",
    "| Pop | `O(1)` | `O(1)` |\n",
    "| Peek | `O(1)` | `O(1)` |\n",
    "| Is Empty | `O(1)` | `O(1)` |\n",
    "| Clear stack | `O(1)` | `O(1)` |"
   ]
  },
  {
   "cell_type": "code",
   "execution_count": null,
   "id": "0da6257f-7510-4f35-8377-8bbdd2edcf07",
   "metadata": {},
   "outputs": [],
   "source": []
  }
 ],
 "metadata": {
  "kernelspec": {
   "display_name": "Python 3 (ipykernel)",
   "language": "python",
   "name": "python3"
  },
  "language_info": {
   "codemirror_mode": {
    "name": "ipython",
    "version": 3
   },
   "file_extension": ".py",
   "mimetype": "text/x-python",
   "name": "python",
   "nbconvert_exporter": "python",
   "pygments_lexer": "ipython3",
   "version": "3.12.5"
  }
 },
 "nbformat": 4,
 "nbformat_minor": 5
}
