{
 "cells": [
  {
   "cell_type": "markdown",
   "id": "57dbe400-3b58-4586-bde6-4f2c317f80f6",
   "metadata": {},
   "source": [
    "# Reverse a Singly Linked List"
   ]
  },
  {
   "cell_type": "markdown",
   "id": "46c052f4-ebf4-463b-9202-9128a1ea8dcc",
   "metadata": {},
   "source": [
    "Write a function to **reverse a singly linked list**. The function should reverse the original linked list.\n",
    "\n",
    "**Example:**\n",
    "* Original singly linked list:   1 -> 2 -> 3 -> 4 -> 5\n",
    "* Reversed singly linked list:  5 -> 4 -> 3 -> 2 ->1"
   ]
  },
  {
   "cell_type": "code",
   "execution_count": 4,
   "id": "57eda38f-1ab1-451f-8bad-4f87876ce4d7",
   "metadata": {},
   "outputs": [
    {
     "name": "stdout",
     "output_type": "stream",
     "text": [
      "Original singly linked list: 1 -> 2 -> 3 -> 4 -> 5\n",
      "Reversed singly linked list: 5 -> 4 -> 3 -> 2 -> 1\n"
     ]
    }
   ],
   "source": [
    "class Node:\n",
    "    def __init__(self, value):\n",
    "        self.value = value\n",
    "        self.next = None\n",
    "\n",
    "class LinkedList:\n",
    "    def __init__(self):\n",
    "        self.head = None\n",
    "        self.tail = None\n",
    "        self.length = 0\n",
    "    \n",
    "    def __str__(self):\n",
    "        temp_node = self.head\n",
    "        result = ''\n",
    "        while temp_node is not None:\n",
    "            result += str(temp_node.value)\n",
    "            if temp_node.next is not None:\n",
    "                result += ' -> '\n",
    "            temp_node = temp_node.next\n",
    "        return result\n",
    "    \n",
    "    def append(self, value):\n",
    "        new_node = Node(value)\n",
    "        if self.head is None:\n",
    "            self.head = new_node\n",
    "            self.tail = new_node\n",
    "        else:\n",
    "            self.tail.next = new_node\n",
    "            self.tail = new_node\n",
    "        self.length += 1\n",
    "\n",
    "    # SOLUTION\n",
    "    def reverse(self):\n",
    "        # TODO\n",
    "        prev_node = None\n",
    "        current_node = self.head\n",
    "        while current_node is not None:\n",
    "            next_node = current_node.next\n",
    "            current_node.next = prev_node\n",
    "            prev_node = current_node\n",
    "            current_node = next_node\n",
    "        self.head, self.tail = self.tail, self.head\n",
    "\n",
    "\n",
    "# Test Solution\n",
    "\n",
    "singly_linked_list = LinkedList()\n",
    "singly_linked_list.append(1)\n",
    "singly_linked_list.append(2)\n",
    "singly_linked_list.append(3)\n",
    "singly_linked_list.append(4)\n",
    "singly_linked_list.append(5)\n",
    "print(\"Original singly linked list: {}\".format(singly_linked_list))\n",
    "\n",
    "singly_linked_list.reverse()\n",
    "print(\"Reversed singly linked list: {}\".format(singly_linked_list))"
   ]
  },
  {
   "cell_type": "markdown",
   "id": "5620ec3b-49fa-41c3-b401-9a168c69525f",
   "metadata": {},
   "source": [
    "# Middle of a Singly Linked List"
   ]
  },
  {
   "cell_type": "markdown",
   "id": "5c0d704f-6572-48ee-80b1-38d976c28c38",
   "metadata": {},
   "source": [
    "Write a function to find and **return the middle node of a singly linked list**. If the list has an even number of nodes, return the second of the two middle nodes.\n",
    "\n",
    "**Explanation**:\n",
    "\n",
    "The approach used is often called the **\"fast and slow pointer\"** technique or **\"tortoise and hare\"** algorithm, which allows you to traverse the list only once, instead of first counting the elements and then accessing the middle one."
   ]
  },
  {
   "cell_type": "code",
   "execution_count": 6,
   "id": "c9631727-352c-4c56-bb99-a0e0fb9da87f",
   "metadata": {},
   "outputs": [
    {
     "name": "stdout",
     "output_type": "stream",
     "text": [
      "Original singly linked list: 1 -> 2 -> 3 -> 4 -> 5 -> 6\n",
      "Middle node of the singly linked list: 4\n"
     ]
    }
   ],
   "source": [
    "class Node:\n",
    "    def __init__(self, value):\n",
    "        self.value = value\n",
    "        self.next = None\n",
    "\n",
    "class LinkedList:\n",
    "    def __init__(self):\n",
    "        self.head = None\n",
    "        self.tail = None\n",
    "        self.length = 0\n",
    "\n",
    "    def __str__(self):\n",
    "        temp_node = self.head\n",
    "        result = ''\n",
    "        while temp_node is not None:\n",
    "            result += str(temp_node.value)\n",
    "            if temp_node.next is not None:\n",
    "                result += ' -> '\n",
    "            temp_node = temp_node.next\n",
    "        return result\n",
    "    \n",
    "    def append(self, value):\n",
    "        new_node = Node(value)\n",
    "        if self.head is None:\n",
    "            self.head = new_node\n",
    "            self.tail = new_node\n",
    "        else:\n",
    "            self.tail.next = new_node\n",
    "            self.tail = new_node\n",
    "        self.length += 1\n",
    "\n",
    "    # SOLUTION\n",
    "    def find_middle(self):\n",
    "        # TODO\n",
    "        slow = self.head\n",
    "        fast = self.head\n",
    "        while fast is not None and fast.next is not None:\n",
    "            slow = slow.next\n",
    "            fast = fast.next.next\n",
    "        return slow\n",
    "\n",
    "# Test Solution\n",
    "singly_linked_list = LinkedList()\n",
    "singly_linked_list.append(1)\n",
    "singly_linked_list.append(2)\n",
    "singly_linked_list.append(3)\n",
    "singly_linked_list.append(4)\n",
    "singly_linked_list.append(5)\n",
    "singly_linked_list.append(6)\n",
    "\n",
    "print(\"Original singly linked list: {}\".format(singly_linked_list))\n",
    "print(\"Middle node of the singly linked list: {}\".format(singly_linked_list.find_middle().value))"
   ]
  },
  {
   "cell_type": "markdown",
   "id": "f66f226c-0aae-494e-8eee-78b665bfa73b",
   "metadata": {},
   "source": [
    "# Remove Duplicates from a Singly Linked List"
   ]
  },
  {
   "cell_type": "markdown",
   "id": "04061878-7709-462a-a905-0f8c8115374b",
   "metadata": {},
   "source": [
    "Given a singly linked list, write a function that removes all the duplicates.\n",
    "\n",
    "* Original Linked List: 1 -> 2 -> 4-> 3 -> 4->2\n",
    "* Result Linked List: 1 -> 2 -> 4 -> 3"
   ]
  },
  {
   "cell_type": "code",
   "execution_count": 10,
   "id": "0af7772b-a863-4a6c-a1b5-88a48ec0b752",
   "metadata": {},
   "outputs": [
    {
     "name": "stdout",
     "output_type": "stream",
     "text": [
      "Original singly linked list: 1 -> 2 -> 4 -> 3 -> 4 -> 2\n",
      "Singly linked list after duplicates removal: 1 -> 2 -> 4 -> 3\n"
     ]
    }
   ],
   "source": [
    "\n",
    "class Node:\n",
    "    def __init__(self, value):\n",
    "        self.value = value\n",
    "        self.next = None\n",
    "\n",
    "class LinkedList:\n",
    "    def __init__(self):\n",
    "        self.head = None\n",
    "        self.tail = None\n",
    "        self.length = 0\n",
    "    \n",
    "    def __str__(self):\n",
    "        temp_node = self.head\n",
    "        result = ''\n",
    "        while temp_node is not None:\n",
    "            result += str(temp_node.value)\n",
    "            if temp_node.next is not None:\n",
    "                result += ' -> '\n",
    "            temp_node = temp_node.next\n",
    "        return result\n",
    "    \n",
    "    def append(self, value):\n",
    "        new_node = Node(value)\n",
    "        if self.head is None:\n",
    "            self.head = new_node\n",
    "            self.tail = new_node\n",
    "        else:\n",
    "            self.tail.next = new_node\n",
    "            self.tail = new_node\n",
    "        self.length += 1\n",
    "    \n",
    "    def remove_duplicates(self):\n",
    "        # TODO\n",
    "        if self.head is None:\n",
    "            return\n",
    "        node_values = set()  # set to store unique node values\n",
    "        current_node = self.head\n",
    "        node_values.add(current_node.value)\n",
    "        while current_node.next:\n",
    "            if current_node.next.value in node_values:  # duplicate found\n",
    "                current_node.next = current_node.next.next\n",
    "                self.length -= 1\n",
    "            else:\n",
    "                node_values.add(current_node.next.value)\n",
    "                current_node = current_node.next\n",
    "        self.tail = current_node\n",
    "\n",
    "\n",
    "# Test Solution\n",
    "singly_linked_list = LinkedList()\n",
    "singly_linked_list.append(1)\n",
    "singly_linked_list.append(2)\n",
    "singly_linked_list.append(4)\n",
    "singly_linked_list.append(3)\n",
    "singly_linked_list.append(4)\n",
    "singly_linked_list.append(2)\n",
    "\n",
    "print(\"Original singly linked list: {}\".format(singly_linked_list))\n",
    "\n",
    "singly_linked_list.remove_duplicates()\n",
    "print(\"Singly linked list after duplicates removal: {}\".format(singly_linked_list))"
   ]
  },
  {
   "cell_type": "code",
   "execution_count": null,
   "id": "7fd8a1a9-3a9a-4ed6-b284-9c0ff74fe744",
   "metadata": {},
   "outputs": [],
   "source": []
  }
 ],
 "metadata": {
  "kernelspec": {
   "display_name": "Python 3 (ipykernel)",
   "language": "python",
   "name": "python3"
  },
  "language_info": {
   "codemirror_mode": {
    "name": "ipython",
    "version": 3
   },
   "file_extension": ".py",
   "mimetype": "text/x-python",
   "name": "python",
   "nbconvert_exporter": "python",
   "pygments_lexer": "ipython3",
   "version": "3.12.5"
  }
 },
 "nbformat": 4,
 "nbformat_minor": 5
}
