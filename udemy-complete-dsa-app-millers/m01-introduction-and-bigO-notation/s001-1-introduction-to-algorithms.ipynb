{
 "cells": [
  {
   "cell_type": "markdown",
   "id": "399ae0c6-fdd6-4dd1-a19e-fe2982747ad5",
   "metadata": {},
   "source": [
    "# Types of Algorithms"
   ]
  },
  {
   "cell_type": "markdown",
   "id": "9e6a0f0e-a633-495b-837f-ca9021a0f2e6",
   "metadata": {},
   "source": [
    "- Simple recursive algorithms\n",
    "- Divide and conquer algorithms\n",
    "- Dynamic programming algorithms\n",
    "- Greedy algorithms\n",
    "- Brute force algorithms\n",
    "- Randomized algorithms"
   ]
  },
  {
   "cell_type": "markdown",
   "id": "6ab343b1-575c-41a3-a27e-8705c1359a86",
   "metadata": {},
   "source": [
    "# Simple recursive algorithms"
   ]
  },
  {
   "cell_type": "markdown",
   "id": "0dd0012b-8592-41b2-93c4-75c8e89e2824",
   "metadata": {},
   "source": [
    "```python\n",
    "Algorithm Sum(A, n)\n",
    "    if n=1\n",
    "        return A[0]\n",
    "    s = Sum(A, n-1) /* recurse on all but last */\n",
    "    s = s + A[n-1] /* add last element */\n",
    "return s\n",
    "```"
   ]
  },
  {
   "cell_type": "markdown",
   "id": "1dcb6ecb-2817-4887-9c09-67ec0d82a907",
   "metadata": {},
   "source": [
    "# Divide and conquer algorithms"
   ]
  },
  {
   "cell_type": "markdown",
   "id": "b1362b17-72ba-4d88-aafa-fa61f5492ab8",
   "metadata": {},
   "source": [
    "- Divide the problem into smaller subproblems of the same type, and solve these subproblems recursively\n",
    "- Combine the solutions to the subproblems into a solution to the original problem\n",
    "\n",
    "**Examples**: Quick sort and merge sort"
   ]
  },
  {
   "cell_type": "markdown",
   "id": "8e7cebef-8ec7-4ad3-9d7c-e6cb8b4d20fc",
   "metadata": {},
   "source": [
    "# Dynamic programming algorithms"
   ]
  },
  {
   "cell_type": "markdown",
   "id": "b4601e8d-4eb6-4a87-a64a-7a53e9b99387",
   "metadata": {},
   "source": [
    "- They work based on memoization\n",
    "- To find the best solution"
   ]
  },
  {
   "cell_type": "markdown",
   "id": "ddd48550-11fd-4be7-85db-f003d21d4c75",
   "metadata": {},
   "source": [
    "# Greedy algorithms"
   ]
  },
  {
   "cell_type": "markdown",
   "id": "276339b8-6504-4d8c-ad1f-1af377d9df22",
   "metadata": {},
   "source": [
    "- We take the best we can without worrying about future consequences.\n",
    "- We hope that by choosing a local optimum solution at each step, we will end up at a global optimum solution."
   ]
  },
  {
   "cell_type": "markdown",
   "id": "d339ece5-6d31-4b04-8393-6b9c726a4172",
   "metadata": {},
   "source": [
    "# Brute force algorithms"
   ]
  },
  {
   "cell_type": "markdown",
   "id": "85ae1c33-3166-4778-baf9-d371d8de0b0b",
   "metadata": {},
   "source": [
    "- It simply tries all possibilities until a satisfactory solution is found."
   ]
  },
  {
   "cell_type": "markdown",
   "id": "ec91c11e-c4de-444d-bfbc-656c7a908611",
   "metadata": {},
   "source": [
    "# Randomized algorithms"
   ]
  },
  {
   "cell_type": "markdown",
   "id": "9fcb0048-fea0-4596-9d56-588108dd5756",
   "metadata": {},
   "source": [
    "- Use a random number at least once during the computation to make a decision."
   ]
  },
  {
   "cell_type": "code",
   "execution_count": null,
   "id": "f00ba434-39a2-4213-8dff-29285b55a512",
   "metadata": {},
   "outputs": [],
   "source": []
  }
 ],
 "metadata": {
  "kernelspec": {
   "display_name": "Python 3 (ipykernel)",
   "language": "python",
   "name": "python3"
  },
  "language_info": {
   "codemirror_mode": {
    "name": "ipython",
    "version": 3
   },
   "file_extension": ".py",
   "mimetype": "text/x-python",
   "name": "python",
   "nbconvert_exporter": "python",
   "pygments_lexer": "ipython3",
   "version": "3.13.7"
  }
 },
 "nbformat": 4,
 "nbformat_minor": 5
}
