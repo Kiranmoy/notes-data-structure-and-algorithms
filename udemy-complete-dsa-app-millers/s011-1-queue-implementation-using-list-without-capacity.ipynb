{
 "cells": [
  {
   "cell_type": "markdown",
   "id": "4b72474f-5787-4aff-bf48-52400b92c93e",
   "metadata": {},
   "source": [
    "# Introduction"
   ]
  },
  {
   "attachments": {
    "288153f4-f8b5-4c11-82d9-fe71960df0c6.png": {
     "image/png": "[encoded data removed]"
    }
   },
   "cell_type": "markdown",
   "id": "682b78c1-3d20-4a1f-864b-a29b8870c95d",
   "metadata": {},
   "source": [
    "![image.png](attachment:288153f4-f8b5-4c11-82d9-fe71960df0c6.png)\n",
    "\n",
    "**NOTE**: \n",
    "* In case of a Queue implemented using a Python list without capacity, we can insert as many elements as we want.\n",
    "* But this is very time-consuming because once we reach the default capacity of the Python list:\n",
    "    * PVM (Python Virtual Machine) allocates a new list with a larger block of memory.\n",
    "    * Copies all the existing elements in the new list.\n",
    "    * Adds the new element to the new list.\n",
    "\n",
    "\n",
    "In Python, lists are **dynamic arrays**, which means they can grow in size as needed. \n",
    "\n",
    "***Here's what happens when you try to insert an element after the list reaches its current capacity***:\n",
    "\n",
    "\n",
    "**Underlying Mechanism**\n",
    "* Python lists are implemented as dynamic arrays in CPython.\n",
    "* When the list reaches its current capacity and you try to append or insert a new element:\n",
    "    * Python **allocates a new, larger block of memory**.\n",
    "    * It **copies the existing elements to the new memory location**.\n",
    "    * Then it **adds the new element**.\n",
    "\n",
    "This **resizing is automatic and handled internally**, so you don’t get an error or need to manage it manually.\n",
    "\n",
    "**Performance Implication**\n",
    "* The resizing operation is costly because it involves memory allocation and copying.\n",
    "* However, Python uses a **growth strategy** (usually over-allocating memory) to minimize the number of resizes. This makes append() operations **amortized `O(1)`** in time complexity.\n",
    "\n",
    "**Example**:\n",
    "\n",
    "```python\n",
    "my_list = [1, 2, 3]\n",
    "for i in range(10000):\n",
    "    my_list.append(i)  # Python handles resizing internally\n",
    "```"
   ]
  },
  {
   "cell_type": "markdown",
   "id": "c56f8fd0-b353-4c78-bb04-51ab318996db",
   "metadata": {},
   "source": [
    "# Queue operation"
   ]
  },
  {
   "cell_type": "markdown",
   "id": "970b3d54-d0dc-4dae-a449-a85dadec6a95",
   "metadata": {},
   "source": [
    "```python\n",
    "customQueue = [ ]\n",
    "customQueue.enqueue(1) # [1]\n",
    "customQueue.enqueue(2) # [2, 1]\n",
    "customQueue.enqueue(3) # [3, 2, 1]\n",
    "customQueue.enqueue(4) # [4, 3, 2, 1]\n",
    "\n",
    "customQueue.pop()    # 1 -> customQueue = [4, 3, 2]\n",
    "customQueue.pop()    # 2 -> customQueue = [4, 3]\n",
    "customQueue.pop()    # 3 -> customQueue = [4]\n",
    "customQueue.pop()    # 4 -> customQueue = []\n",
    "customQueue.pop()    # Error - Queue is Empty\n",
    "\n",
    "customQueue = [1,2,3,4]\n",
    "customQueue.peek()   # 4 -> customQueue = [4, 3, 2, 1]\n",
    "\n",
    "customQueue.isEmpty() # False\n",
    "\n",
    "# customQueue.isFull() # Not applicable \n",
    "\n",
    "customQueue.delete() # customQueue = []"
   ]
  },
  {
   "cell_type": "markdown",
   "id": "6562affd-e491-4679-bd90-463d63fd5b62",
   "metadata": {},
   "source": [
    "# Queue implementation using List without capacity"
   ]
  },
  {
   "cell_type": "code",
   "execution_count": 11,
   "id": "f73cdaed-2635-4b38-9d64-a000a3887475",
   "metadata": {},
   "outputs": [
    {
     "name": "stdout",
     "output_type": "stream",
     "text": [
      "QUEUE REPRESENTATION:\n",
      "\n",
      "[] \n",
      "\n",
      "QUEUE REPRESENTATION:\n",
      "\n",
      "1 2 3 \n",
      "\n"
     ]
    }
   ],
   "source": [
    "class Queue:\n",
    "    def __init__(self):\n",
    "        self.items = []\n",
    "    \n",
    "    def __str__(self):\n",
    "        print(\"QUEUE REPRESENTATION:\\n\")\n",
    "        if self.isEmpty():\n",
    "            return \"[]\"\n",
    "        values = [str(x) for x in self.items]\n",
    "        return ' '.join(values)\n",
    "    \n",
    "    def isEmpty(self):\n",
    "        if self.items == []:\n",
    "            return True\n",
    "        else:\n",
    "            return False\n",
    "    \n",
    "    def enqueue(self, value):\n",
    "        self.items.append(value)\n",
    "    \n",
    "    def dequeue(self):\n",
    "        if self.isEmpty():\n",
    "            return \"[]\"\n",
    "        else:\n",
    "            return self.items.pop(0)\n",
    "    \n",
    "    def peek(self):\n",
    "        if self.isEmpty():\n",
    "            return \"[]\"\n",
    "        else:\n",
    "            return self.items[0]\n",
    "    \n",
    "    def delete(self):\n",
    "        self.items = []\n",
    "\n",
    "\n",
    "\n",
    "\n",
    "customQueue = Queue()\n",
    "print(customQueue, \"\\n\")\n",
    "\n",
    "customQueue.enqueue(1)\n",
    "customQueue.enqueue(2)\n",
    "customQueue.enqueue(3)\n",
    "print(customQueue, \"\\n\")"
   ]
  },
  {
   "cell_type": "code",
   "execution_count": 4,
   "id": "07f1391e-bc21-4809-9a9c-c0059e5f7c57",
   "metadata": {},
   "outputs": [
    {
     "name": "stdout",
     "output_type": "stream",
     "text": [
      "PEEK: 1\n",
      "QUEUE REPRESENTATION:\n",
      "\n",
      "1 2 3 \n",
      "\n"
     ]
    }
   ],
   "source": [
    "print(\"PEEK: {}\".format(customQueue.peek()))     # 10\n",
    "print(customQueue, \"\\n\")"
   ]
  },
  {
   "cell_type": "code",
   "execution_count": 6,
   "id": "df32f823-3a10-449a-bab3-f37c84f2257d",
   "metadata": {},
   "outputs": [
    {
     "name": "stdout",
     "output_type": "stream",
     "text": [
      "POP: 1\n",
      "QUEUE REPRESENTATION:\n",
      "\n",
      "2 3 \n",
      "\n"
     ]
    }
   ],
   "source": [
    "print(\"POP: {}\".format(customQueue.dequeue()))\n",
    "print(customQueue, \"\\n\")"
   ]
  },
  {
   "cell_type": "code",
   "execution_count": 7,
   "id": "06c657d5-4f97-4d5f-bd01-f8c4f1936c5b",
   "metadata": {},
   "outputs": [
    {
     "name": "stdout",
     "output_type": "stream",
     "text": [
      "PEEK: 2\n",
      "QUEUE REPRESENTATION:\n",
      "\n",
      "2 3 \n",
      "\n"
     ]
    }
   ],
   "source": [
    "print(\"PEEK: {}\".format(customQueue.peek()))     # 9\n",
    "print(customQueue, \"\\n\")"
   ]
  },
  {
   "cell_type": "code",
   "execution_count": 9,
   "id": "ece3ffbe-03a1-4d82-b17f-7b9f122acbd4",
   "metadata": {},
   "outputs": [
    {
     "name": "stdout",
     "output_type": "stream",
     "text": [
      "IS EMPTY: False\n",
      "QUEUE SIZE: 2\n"
     ]
    }
   ],
   "source": [
    "print(\"IS EMPTY: {}\".format(customQueue.isEmpty())) # False\n",
    "print(\"QUEUE SIZE: {}\".format(len(customQueue.items)))     # 3"
   ]
  },
  {
   "cell_type": "code",
   "execution_count": 12,
   "id": "fcb806f8-f5ed-4a84-9068-cbc417ac4f6f",
   "metadata": {},
   "outputs": [
    {
     "name": "stdout",
     "output_type": "stream",
     "text": [
      "QUEUE REPRESENTATION:\n",
      "\n",
      "[] \n",
      "\n"
     ]
    }
   ],
   "source": [
    "customQueue.delete()\n",
    "print(customQueue, \"\\n\")"
   ]
  },
  {
   "cell_type": "code",
   "execution_count": 13,
   "id": "55f9f8f7-6c84-4df4-b16e-3c6d821240d3",
   "metadata": {},
   "outputs": [
    {
     "name": "stdout",
     "output_type": "stream",
     "text": [
      "IS EMPTY: True\n"
     ]
    }
   ],
   "source": [
    "print(\"IS EMPTY: {}\".format(customQueue.isEmpty())) # True"
   ]
  },
  {
   "cell_type": "code",
   "execution_count": null,
   "id": "439db21f-6a29-4f5b-857f-d80caf98c8b8",
   "metadata": {},
   "outputs": [],
   "source": []
  }
 ],
 "metadata": {
  "kernelspec": {
   "display_name": "Python 3 (ipykernel)",
   "language": "python",
   "name": "python3"
  },
  "language_info": {
   "codemirror_mode": {
    "name": "ipython",
    "version": 3
   },
   "file_extension": ".py",
   "mimetype": "text/x-python",
   "name": "python",
   "nbconvert_exporter": "python",
   "pygments_lexer": "ipython3",
   "version": "3.12.5"
  }
 },
 "nbformat": 4,
 "nbformat_minor": 5
}
